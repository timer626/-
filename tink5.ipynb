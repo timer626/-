{
  "nbformat": 4,
  "nbformat_minor": 0,
  "metadata": {
    "colab": {
      "provenance": [],
      "authorship_tag": "ABX9TyOos23oR0rc7Lky4aEey+wG",
      "include_colab_link": true
    },
    "kernelspec": {
      "name": "python3",
      "display_name": "Python 3"
    },
    "language_info": {
      "name": "python"
    }
  },
  "cells": [
    {
      "cell_type": "markdown",
      "metadata": {
        "id": "view-in-github",
        "colab_type": "text"
      },
      "source": [
        "<a href=\"https://colab.research.google.com/github/timer626/-/blob/main/tink5.ipynb\" target=\"_parent\"><img src=\"https://colab.research.google.com/assets/colab-badge.svg\" alt=\"Open In Colab\"/></a>"
      ]
    },
    {
      "cell_type": "code",
      "source": [],
      "metadata": {
        "id": "PUMNnccfyNk1"
      },
      "execution_count": null,
      "outputs": []
    },
    {
      "cell_type": "code",
      "execution_count": 49,
      "metadata": {
        "colab": {
          "base_uri": "https://localhost:8080/"
        },
        "id": "LQ4ajKJ4qldu",
        "outputId": "ad4dcdd4-237a-48d7-f8b5-e712a2d99fae"
      },
      "outputs": [
        {
          "output_type": "stream",
          "name": "stdout",
          "text": [
            "\"VK\" 00:00:21 A FORBIDEN\n",
            "\"T\" 00:00:23 A DANIED\n",
            "\"T\" 00:20:23 A ACCESSED\n",
            "\"VK\" 00:30:23 A ACCESSED\n",
            "\"YA\" 00:40:23 B ACCESSED\n"
          ]
        },
        {
          "output_type": "execute_result",
          "data": {
            "text/plain": [
              "{'\"': 'YA\"', '0': '0:40:23', 'B': '', 'A': 'CCESSED'}"
            ]
          },
          "metadata": {},
          "execution_count": 49
        }
      ],
      "source": [
        "class Solution():\n",
        "  def timeOperation(self,start,end):\n",
        "    start_h,start_m,start_s=map(int,start.split(\":\"))\n",
        "    end_h,end_m,end_s=map(int,end.split(\":\"))\n",
        "    duration_h=end_h-start_h\n",
        "    duration_m=end_m-start_m\n",
        "    duration_m=end_m-start_m\n",
        "    duration_s=end_s-start_s\n",
        "    return duration_h*60+duration_m+duration_s//60\n",
        "\n",
        "exmpl1=Solution()\n",
        "a=\"12:00:00\"\n",
        "b=\"14:02:00\"\n",
        "c=\"15:02:00\"\n",
        "rez1=exmpl1.timeOperation(a,b)\n",
        "s = ['\"VK\" 00:00:21 A FORBIDEN',\n",
        "     '\"T\" 00:00:23 A DANIED',\n",
        "     '\"T\" 00:20:23 A ACCESSED',\n",
        "     '\"VK\" 00:30:23 A ACCESSED',\n",
        "     '\"YA\" 00:40:23 B ACCESSED']\n",
        "exmpl1.dct(s)\n"
      ]
    },
    {
      "cell_type": "code",
      "source": [],
      "metadata": {
        "id": "VCv-dMVfq0SK"
      },
      "execution_count": 10,
      "outputs": []
    }
  ]
}